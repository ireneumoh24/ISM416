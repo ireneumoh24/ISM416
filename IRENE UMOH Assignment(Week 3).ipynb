{
 "cells": [
  {
   "cell_type": "markdown",
   "metadata": {},
   "source": [
    "## IRENE UMOH 17100310866"
   ]
  },
  {
   "cell_type": "markdown",
   "metadata": {},
   "source": [
    "## `Question 1:` What are regular expressions and why are they important? \n",
    "\n",
    "Regular expressions (RegEx) are strings of texts. These strings allow us to create patterns which aid in locating, matching, and managing text. They are very useful when it comes to search and replace operations. It is especially important when you have a lot of text to go  and we need to check for patterns. It is very flexible as it allows you to search for patterns based on your criteria"
   ]
  },
  {
   "cell_type": "markdown",
   "metadata": {},
   "source": [
    "## `Question 2:` From what you have learnt so far, create a pattern to identify any other information in the test_emails.txt Corpus"
   ]
  },
  {
   "cell_type": "code",
   "execution_count": 4,
   "metadata": {},
   "outputs": [],
   "source": [
    "file = open('test_emails.txt').read()"
   ]
  },
  {
   "cell_type": "code",
   "execution_count": 5,
   "metadata": {},
   "outputs": [],
   "source": [
    "import re"
   ]
  },
  {
   "cell_type": "code",
   "execution_count": 6,
   "metadata": {},
   "outputs": [],
   "source": [
    "match = re.findall('X-Mailer:.*', file)"
   ]
  },
  {
   "cell_type": "code",
   "execution_count": 7,
   "metadata": {},
   "outputs": [
    {
     "data": {
      "text/plain": [
       "['X-Mailer: Microsoft Outlook Express 5.00.2919.6900DM']"
      ]
     },
     "execution_count": 7,
     "metadata": {},
     "output_type": "execute_result"
    }
   ],
   "source": [
    "match"
   ]
  },
  {
   "cell_type": "code",
   "execution_count": 8,
   "metadata": {},
   "outputs": [
    {
     "name": "stdout",
     "output_type": "stream",
     "text": [
      "[' Microsoft Outlook Express 5.00.2919.6900DM']\n"
     ]
    }
   ],
   "source": [
    "for x in match:\n",
    "    print (re.findall(\"\\s.*\", x))"
   ]
  },
  {
   "cell_type": "markdown",
   "metadata": {},
   "source": [
    "## `Question 3:` Create a pattern to identify the date in DD MMM YYYY format!"
   ]
  },
  {
   "cell_type": "code",
   "execution_count": 9,
   "metadata": {},
   "outputs": [],
   "source": [
    "match = re.findall('Date.*', file)"
   ]
  },
  {
   "cell_type": "code",
   "execution_count": 10,
   "metadata": {},
   "outputs": [
    {
     "data": {
      "text/plain": [
       "['Date: Thu, 31 Oct 2002 05:10:00', 'Date: Thu, 31 Oct 2002 22:17:55 +0100']"
      ]
     },
     "execution_count": 10,
     "metadata": {},
     "output_type": "execute_result"
    }
   ],
   "source": [
    "match"
   ]
  },
  {
   "cell_type": "code",
   "execution_count": 59,
   "metadata": {},
   "outputs": [
    {
     "name": "stdout",
     "output_type": "stream",
     "text": [
      "['31 Oct 2002']\n",
      "['31 Oct 2002']\n"
     ]
    }
   ],
   "source": [
    "for t in match:\n",
    "    print (re.findall(\"\\d+\\s\\w+\\s\\d+\", t))"
   ]
  },
  {
   "cell_type": "code",
   "execution_count": null,
   "metadata": {},
   "outputs": [],
   "source": [
    "#\\d+ - starts with a number. The plus is because there might be more than one digit in the DD format\n",
    "#\\s -  to match the white space\n",
    "#\\w+ - match the three letters"
   ]
  }
 ],
 "metadata": {
  "kernelspec": {
   "display_name": "Python 3",
   "language": "python",
   "name": "python3"
  },
  "language_info": {
   "codemirror_mode": {
    "name": "ipython",
    "version": 3
   },
   "file_extension": ".py",
   "mimetype": "text/x-python",
   "name": "python",
   "nbconvert_exporter": "python",
   "pygments_lexer": "ipython3",
   "version": "3.8.5"
  }
 },
 "nbformat": 4,
 "nbformat_minor": 2
}
